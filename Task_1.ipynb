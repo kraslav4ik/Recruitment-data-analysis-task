{
  "nbformat": 4,
  "nbformat_minor": 0,
  "metadata": {
    "colab": {
      "name": "Task_1",
      "provenance": [],
      "authorship_tag": "ABX9TyMPoT4FMh6SE3nlU2qCHTsE",
      "include_colab_link": true
    },
    "kernelspec": {
      "name": "python3",
      "display_name": "Python 3"
    },
    "language_info": {
      "name": "python"
    }
  },
  "cells": [
    {
      "cell_type": "markdown",
      "metadata": {
        "id": "view-in-github",
        "colab_type": "text"
      },
      "source": [
        "<a href=\"https://colab.research.google.com/github/kraslav4ik/Recruitment-data-analysis-task/blob/main/Task_1.ipynb\" target=\"_parent\"><img src=\"https://colab.research.google.com/assets/colab-badge.svg\" alt=\"Open In Colab\"/></a>"
      ]
    },
    {
      "cell_type": "markdown",
      "source": [
        "Krasnoperov Viacheslav\n",
        "\n",
        "BitPeak recruitment task #1\n",
        "\n",
        "Based on the pandas and faker libraries implement a function named generate_ssns , which returns an object of the Series type with the number of records specified by the function input parameter and values ​​representing the random numbers generated PESEL.  \n",
        "\n",
        "Implement the generate_unique_ssns function (in any way), which returns an object of the Series type with the number of records specified by the input parameter of the function and values ​​representing random and unique (only within the returned collection) PESEL numbers appropriate for people of gender (female / male) and born in the range of dates (from-to) also specified by the input parameters of this function.  \n",
        "\n",
        "Then implement the calls to the generate_ssns and generate_unique_ssns functions for 1,000, 10,000, and 100,000 records, indicating the selected gender and the range of birth dates from 1990-01-01 to 1990-01-19. Make a measurement and display the duration of their execution (separately for each call of each of these two functions).  \n",
        "\n",
        "Implement a function called validate_ssn , which takes the PESEL number as input along with the expected gender (female / male / any) and date of birth (specific / specific or any), and returns information on the correctness of the PESEL number on the output. Inside the function, include the logic verifying the syntactic correctness of the PESEL number, taking into account the information about the expected gender and date of birth. Then test the validate_ssn function with sample data.\n",
        "\n",
        "\n",
        "\n",
        "Start with installing libraries using pip."
      ],
      "metadata": {
        "id": "1Z99ILJd4XV2"
      }
    },
    {
      "cell_type": "code",
      "source": [
        "!pip install -q faker\n",
        " "
      ],
      "metadata": {
        "id": "EY36xaRS4RPM"
      },
      "execution_count": 24,
      "outputs": []
    },
    {
      "cell_type": "markdown",
      "source": [
        "Import all modules. I will call provider class pl_PL \"PESELProvider\""
      ],
      "metadata": {
        "id": "0fkjRybzLQC7"
      }
    },
    {
      "cell_type": "code",
      "source": [
        "import random\n",
        "import re\n",
        "import pandas as pd\n",
        "import time\n",
        "\n",
        "from datetime import date, timedelta\n",
        "from faker import Faker\n",
        "from faker.providers.ssn.pl_PL import Provider as PESELProvider"
      ],
      "metadata": {
        "id": "fuO5nZkR44n4"
      },
      "execution_count": 25,
      "outputs": []
    },
    {
      "cell_type": "markdown",
      "source": [
        "That's generator for the second function to generate unique ssn. In task there were no info about that, so, I had two ways to implement this: generate random ssn's and than check if they fits my criteria, or from the beginning, make faker to generate values, satisfying criteria, which is much much much faster. I implement both, decided to change default provider's generator and create my own, but add a checking of each PESEL as well\n",
        "so, there is generator, \"date_time\" method of which will return random date from range of dates, which we will want"
      ],
      "metadata": {
        "id": "4G48SL8cLRav"
      }
    },
    {
      "cell_type": "code",
      "source": [
        "class CustomBirthDateGenerator:\n",
        "\n",
        "    def __init__(self, date_from, date_to):\n",
        "        self.date_from = date_from\n",
        "        self.date_to = date_to\n",
        "        self.period = self.date_to - self.date_from\n",
        "        self.random = random\n",
        "\n",
        "    def date_time(self):\n",
        "        return self.date_from + timedelta(days=random.randint(0, self.period.days))"
      ],
      "metadata": {
        "id": "zQ2fdwZGLXJG"
      },
      "execution_count": 26,
      "outputs": []
    },
    {
      "cell_type": "markdown",
      "source": [
        "Create \"Faker\""
      ],
      "metadata": {
        "id": "UF-veBeULXY1"
      }
    },
    {
      "cell_type": "code",
      "source": [
        "fake = Faker()"
      ],
      "metadata": {
        "id": "VWLBSQfgLiw2"
      },
      "execution_count": 27,
      "outputs": []
    },
    {
      "cell_type": "markdown",
      "source": [
        "Simple function using iteration to generate ssn's"
      ],
      "metadata": {
        "id": "FXCnJDYxLk5e"
      }
    },
    {
      "cell_type": "code",
      "source": [
        "def generate_ssns(rec_num: int) -> pd.Series:\n",
        "    fake.add_provider(PESELProvider)\n",
        "    ssns = (fake.ssn() for _ in range(rec_num))\n",
        "    return pd.Series(ssns)"
      ],
      "metadata": {
        "id": "oyv0h6WmLlgh"
      },
      "execution_count": 28,
      "outputs": []
    },
    {
      "cell_type": "markdown",
      "source": [
        "Function to generate unique ssns. As I mentioned, I implemented it using my own generator, but still check if they satisfy. For making unique ssns I used set for linear-time checking if PESEL is already exists. For parse PESEL I wrote separate function \"split_pesel\". And added check for correctly written gender(male or female)"
      ],
      "metadata": {
        "id": "1LJe_8ioLmBL"
      }
    },
    {
      "cell_type": "code",
      "source": [
        "def generate_unique_ssns(rec_num: int, date_from: date, date_to: date, sex: str) -> pd.Series:\n",
        "    correct_sex_str = re.match(r'^(fe)?male$', sex)\n",
        "    if not correct_sex_str:\n",
        "        raise ValueError(sex)\n",
        "    custom_provider = PESELProvider(CustomBirthDateGenerator(date_from, date_to))\n",
        "    fake.add_provider(custom_provider)\n",
        "    ssns = set()\n",
        "    while len(ssns) < rec_num:\n",
        "        pesel = fake.ssn()\n",
        "        if pesel in ssns:\n",
        "            continue\n",
        "        cur_date, pesel_sex, _ = split_pesel(pesel)\n",
        "\n",
        "        if date_from <= cur_date <= date_to and pesel_sex == sex:\n",
        "            ssns.add(pesel)\n",
        "\n",
        "    return pd.Series(list(ssns))"
      ],
      "metadata": {
        "id": "X_uXqveRLteF"
      },
      "execution_count": 29,
      "outputs": []
    },
    {
      "cell_type": "markdown",
      "source": [
        "Next function is for checking if there valid PESEL or not. I checked it next way:\n",
        "\n",
        "1.  Is there an 11 digits number\n",
        "2.  If have validate gender, check if it's the same in PESEL\n",
        "3.  If birth date is given, check if it's the same\n",
        "4.  Check for last digit(parity number) - wrote separate function\n",
        "\n",
        "Also, split pesel using function \"split_pesel(its implementation below))\". And added check for correctly written gender(male, female, any)\n",
        "\n"
      ],
      "metadata": {
        "id": "CCL7MdTlLt9B"
      }
    },
    {
      "cell_type": "code",
      "source": [
        "def validate_ssn(number: str, sex: str = 'any', birth_date: date = None) -> bool:\n",
        "    correct_pesel = re.match(r'^\\d{11}$', number)\n",
        "    if not correct_pesel:\n",
        "        return False\n",
        "    birth_date_p, sex_p, parity_num = split_pesel(number)\n",
        "    if sex:\n",
        "        correct_sex_str = re.match(r'^(fe)?male|any$', sex)\n",
        "        if not correct_sex_str:\n",
        "            raise ValueError(sex)\n",
        "        if sex != sex_p:\n",
        "            return False\n",
        "\n",
        "    if birth_date and birth_date != birth_date_p:\n",
        "        return False\n",
        "\n",
        "    if not is_correct_last_digit(number, parity_num):\n",
        "        return False\n",
        "    return True"
      ],
      "metadata": {
        "id": "Sph-bGkcLz65"
      },
      "execution_count": 30,
      "outputs": []
    },
    {
      "cell_type": "markdown",
      "source": [
        "In \"split_pesel\" function, I got the birth date, gender and parity num just using string slices. Since century is stored in month number and counted by formula, there is a dependance: for XX century, month is the same, for XXI century month in PESEL = real month + 20. There are the only centuries, we are interested in"
      ],
      "metadata": {
        "id": "62aFYF5RL0PA"
      }
    },
    {
      "cell_type": "code",
      "source": [
        "def split_pesel(pesel) -> tuple:\n",
        "    birth_day = int(pesel[4:6])\n",
        "    pesel_year = pesel[0:2]\n",
        "    pesel_month = int(pesel[2:4])\n",
        "    gender = 'male' if int(pesel[9]) % 2 else 'female'\n",
        "    parity_num = pesel[-1]\n",
        "    if pesel_month > 12:\n",
        "        birth_year = int('20' + pesel_year)\n",
        "        birth_month = pesel_month - 20\n",
        "    else:\n",
        "        birth_year = int('19' + pesel_year)\n",
        "        birth_month = pesel_month\n",
        "    return date(day=birth_day, year=birth_year, month=birth_month), gender, parity_num"
      ],
      "metadata": {
        "id": "-CJEfpdrL90v"
      },
      "execution_count": 31,
      "outputs": []
    },
    {
      "cell_type": "markdown",
      "source": [
        "Last PESEL's digit is counted by formula: A×1 + B×3 + C×7 + D×9 + E×1 + F×3 + G×7 + H×9 + I×1 + J×3. Did this check inside next function"
      ],
      "metadata": {
        "id": "fVeVb2KiL-IJ"
      }
    },
    {
      "cell_type": "code",
      "source": [
        "def is_correct_last_digit(pesel: str, parity_num: int) -> bool:\n",
        "    multipliers = (1, 3, 7, 9, 1, 3, 7, 9, 1)\n",
        "    s = 0\n",
        "    for number, multiplier in zip(pesel, multipliers):\n",
        "        s += int(number) * multiplier\n",
        "    expected_last_digit = s % 10\n",
        "    if int(parity_num) != expected_last_digit:\n",
        "        return False\n",
        "    return True"
      ],
      "metadata": {
        "id": "knEjWdBXMBRL"
      },
      "execution_count": 32,
      "outputs": []
    },
    {
      "cell_type": "markdown",
      "source": [
        "Starting test our functions. For execution time measuring, I used simple time.perf.counter. I intentionally remove the 100000 records from here, since, with given data there are only 95000 unique PESEL numbers(19 birth_days, one gender -> 5 gender number variations, 3 random numbers. So, 1×1×1×1×19×10×10×10×5×1 = 95000), if we will try 100000 records, function will try to create new pesels infinitely :)"
      ],
      "metadata": {
        "id": "Nplknv-FVs7i"
      }
    },
    {
      "cell_type": "code",
      "source": [
        "test_data = (1000, 10000)\n",
        "result = {\"generate_snss\": {}, \"generate_unique_snss\": {}, \"validate_ssn\": []}\n",
        "for n_samples in test_data:\n",
        "    start = time.perf_counter()\n",
        "    generate_ssns(n_samples)\n",
        "    stop = time.perf_counter()\n",
        "    result[\"generate_snss\"][f\"{n_samples} records\"] = f'{round(stop - start, 4)} secs'\n",
        "\n",
        "    start = time.perf_counter()\n",
        "    generate_unique_ssns(n_samples, date_from=date(year=1990, month=1, day=1),\n",
        "                                  date_to=date(year=1990, month=1, day=19), sex=\"female\")\n",
        "    stop = time.perf_counter()\n",
        "    result[\"generate_unique_snss\"][f\"{n_samples} records\"] = f'{round(stop - start, 4)} secs'"
      ],
      "metadata": {
        "id": "fRmqQi-oVsbl"
      },
      "execution_count": 33,
      "outputs": []
    },
    {
      "cell_type": "markdown",
      "source": [
        "Then, test validate_ssn with sample data"
      ],
      "metadata": {
        "id": "DEftB8PlVtuh"
      }
    },
    {
      "cell_type": "code",
      "execution_count": 34,
      "metadata": {
        "id": "93IyhKJXZ1SZ"
      },
      "outputs": [],
      "source": [
        "test_pesel_samples = [{\"num\": \"90011741966\", \"date\": None, \"sex\": None},  # True\n",
        "                      {\"num\": \"90011741963\", \"date\": None, \"sex\": None},  # False\n",
        "                      {\"num\": \"90011741966\", \"date\": date(year=1990, month=1, day=17), \"sex\": 'female'},  # True\n",
        "                      {\"num\": \"900117466\", \"date\": None, \"sex\": None},  # False\n",
        "                      {\"num\": \"90011741966\", \"date\": date(year=1990, month=1, day=17), \"sex\": 'male'}  # False\n",
        "                      ]\n",
        "for sample in test_pesel_samples:\n",
        "    answer = validate_ssn(number=sample[\"num\"],\n",
        "                                    birth_date=sample.get(\"date\", None), sex=sample.get(\"sex\", None))\n",
        "    result[\"validate_ssn\"].append(answer)"
      ]
    },
    {
      "cell_type": "code",
      "source": [
        "print(result)"
      ],
      "metadata": {
        "colab": {
          "base_uri": "https://localhost:8080/"
        },
        "id": "MgGuZj4dLByM",
        "outputId": "9f00575e-3de3-404f-8469-d493ae91fb4f"
      },
      "execution_count": 35,
      "outputs": [
        {
          "output_type": "stream",
          "name": "stdout",
          "text": [
            "{'generate_snss': {'1000 records': '0.0504 secs', '10000 records': '0.4564 secs'}, 'generate_unique_snss': {'1000 records': '0.0873 secs', '10000 records': '1.2515 secs'}, 'validate_ssn': [True, False, True, False, False]}\n"
          ]
        }
      ]
    }
  ]
}
