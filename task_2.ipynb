{
  "nbformat": 4,
  "nbformat_minor": 0,
  "metadata": {
    "colab": {
      "name": "task_2",
      "provenance": [],
      "authorship_tag": "ABX9TyNfU3e80Iz1MzNiPc4fzivr",
      "include_colab_link": true
    },
    "kernelspec": {
      "name": "python3",
      "display_name": "Python 3"
    },
    "language_info": {
      "name": "python"
    }
  },
  "cells": [
    {
      "cell_type": "markdown",
      "metadata": {
        "id": "view-in-github",
        "colab_type": "text"
      },
      "source": [
        "<a href=\"https://colab.research.google.com/github/kraslav4ik/Recruitment-data-analysis-task/blob/main/task_2.ipynb\" target=\"_parent\"><img src=\"https://colab.research.google.com/assets/colab-badge.svg\" alt=\"Open In Colab\"/></a>"
      ]
    },
    {
      "cell_type": "markdown",
      "source": [
        "Krasnoperov Viacheslav\n",
        "\n",
        "BitPeak recruitment task #2\n",
        "\n",
        "1. Using sqlite3 , create a new database with the FlightLeg table , which will contain information about the flights of the planes, with the following columns:  \n",
        "  * id - numeric identifier assigned from the sequence  \n",
        "  * tailNumber - aircraft identifier  \n",
        "  * sourceAirportCode, destinationAirportCode - three-letter airport code (according to IATA)  \n",
        "  * sourceCountryCode, destinationCountryCode - three-letter country code (according to ISO 3166-1 Alpha-3)  \n",
        "  * departureTimeUtc, landingTimeUtc - date and time (accurate to the second), respectively, of departure and landing (in UTC)  \n",
        "\n",
        "2. Fill in the FlightLeg table with data from the file: https://bitpeak.pl/datasets/flightlegs.csv  \n",
        "\n",
        "3. Add two new columns to the table:  \n",
        "\n",
        "  * flightDuration - fill it with values ​​representing flight duration in minutes (rounded to the nearest integer)  \n",
        "\n",
        "  * flightType - fill it with the flight type values: domestic (value 'D' = domestic) or foreign (value 'I' = international); a domestic flight is a flight that begins and ends in the same country  \n",
        "\n",
        "4. Implement the logic that answers the following questions:  \n",
        "  1. Which aircraft made the most flights?  \n",
        "  2. Which plane flew the most minutes?  \n",
        "  3. Which flight, broken down into domestic and foreign ones, was the shortest and which was the longest, and how many minutes was it?  \n",
        "  4. (optional) How many erroneous flight records are there, which indicate that the aircraft was performing more than one flight at the same time? View all pairs of such conflicting flights.  \n",
        "\n",
        "FOL, Download csv file and create database file in the root directory"
      ],
      "metadata": {
        "id": "YZzHXecVHOyb"
      }
    },
    {
      "cell_type": "code",
      "source": [
        "!FILE=\"./flightlegs.csv\"; if [ -f \"$FILE\" ]; then echo \"$FILE exists\"; else wget \"https://bitpeak.pl/datasets/flightlegs.csv\"; fi\n",
        "!touch \"task_db.db\""
      ],
      "metadata": {
        "colab": {
          "base_uri": "https://localhost:8080/"
        },
        "id": "EuR24McQFyy9",
        "outputId": "2a709ec7-0605-4076-e2b2-21971c8e476f"
      },
      "execution_count": 89,
      "outputs": [
        {
          "output_type": "stream",
          "name": "stdout",
          "text": [
            "./flightlegs.csv exists\n"
          ]
        }
      ]
    },
    {
      "cell_type": "markdown",
      "source": [
        "Import all necessary libraries"
      ],
      "metadata": {
        "id": "nwKTIGYMHiOV"
      }
    },
    {
      "cell_type": "code",
      "source": [
        "import sqlite3\n",
        "import pandas as pd\n",
        "from collections import defaultdict, Counter\n",
        "from datetime import datetime"
      ],
      "metadata": {
        "id": "uFsUFBvhGun4"
      },
      "execution_count": 90,
      "outputs": []
    },
    {
      "cell_type": "markdown",
      "source": [
        "Describe our path's variables, connect to database, \"connect\", \"cursor\", paths and answers dict are global variables."
      ],
      "metadata": {
        "id": "w6_Tm6UoHtFB"
      }
    },
    {
      "cell_type": "code",
      "source": [
        "db_path = './task_db.db'\n",
        "csv_path = './flightlegs.csv'\n",
        "\n",
        "connect = sqlite3.connect(db_path)\n",
        "cursor = connect.cursor()\n",
        "answers = {}"
      ],
      "metadata": {
        "id": "RLNj9D2KF2KH"
      },
      "execution_count": 91,
      "outputs": []
    },
    {
      "cell_type": "markdown",
      "source": [
        "Create table if it isn't exist"
      ],
      "metadata": {
        "id": "Xn6CJVCpF2h7"
      }
    },
    {
      "cell_type": "code",
      "source": [
        "def create_table() -> None:\n",
        "    cursor.execute(\"SELECT name FROM sqlite_master WHERE type='table';\")\n",
        "    tables = set([name[0] for name in cursor])\n",
        "    if 'FlightLeg' not in tables:\n",
        "        cursor.execute('''CREATE TABLE FlightLeg\n",
        "                        (id INTEGER, tail INTEGER, sourceAirportCode TEXT(3),\n",
        "                        destinationAirportCode TEXT(3), sourceCountryCode TEXT(3), destinationCountryCode TEXT(3),\n",
        "                        departureTimeUtc TEXT, landingTimeUtc TEXT);''')\n",
        "        connect.commit()\n"
      ],
      "metadata": {
        "id": "CamIIHViF6Sj"
      },
      "execution_count": 92,
      "outputs": []
    },
    {
      "cell_type": "markdown",
      "source": [
        "In the function \"csv_data_into_db\", read the csv file into pandas DataFrame (assign the columns's names the same as in SQL table). Then, check that our SQL table doesn't contain any records and load all DataFrame's content into table using Dataframe's \"to_sql\" method"
      ],
      "metadata": {
        "id": "8Bok71lnF6wo"
      }
    },
    {
      "cell_type": "code",
      "source": [
        "def csv_data_into_db(csv_path) -> None:\n",
        "    col_names = [\"tail\", \"sourceAirportCode\", \"sourceCountryCode\", \"destinationAirportCode\",\n",
        "                \"destinationCountryCode\", \"departureTimeUtc\", \"landingTimeUtc\"]\n",
        "    df = pd.read_csv(csv_path, names=col_names, skiprows=[0], sep=';')\n",
        "    cursor.execute('SELECT * FROM FlightLeg;')\n",
        "    table_rows = [row for row in cursor]\n",
        "    if not table_rows:\n",
        "        df.to_sql('FlightLeg', connect, if_exists='append', index_label='id')\n",
        "        connect.commit()"
      ],
      "metadata": {
        "id": "bz-gjfEIF-Zq"
      },
      "execution_count": 93,
      "outputs": []
    },
    {
      "cell_type": "markdown",
      "source": [
        "In next function, add columns \"flightDuration\" and \"flightType\" using SQL ALTER TABLE.\n",
        "\n",
        "1.   For counting days, convert landing time and departure time into Julianday format, find their difference and convert it into minutes, rounded to integer value\n",
        "2. To set a flight type for each flight, use \"CASE WHEN x THEN y ELSE z END\""
      ],
      "metadata": {
        "id": "cmDc3FuaF-rn"
      }
    },
    {
      "cell_type": "code",
      "source": [
        "def add_columns() -> None:\n",
        "    cols_names = set([description[0] for description in cursor.description])\n",
        "    if 'flightDuration' not in cols_names:\n",
        "        cursor.execute(\"ALTER TABLE FlightLeg ADD COLUMN flightDuration INTEGER;\")\n",
        "        cursor.execute(\"\"\"UPDATE FlightLeg\n",
        "                SET flightDuration = ROUND((JULIANDAY(landingTimeUtc) - JULIANDAY(departureTimeUtc)) * 1440)\"\"\")\n",
        "        connect.commit()\n",
        "    if 'flightType' not in cols_names:\n",
        "        cursor.execute(\"ALTER TABLE FlightLeg ADD COLUMN flightType TEXT(1);\")\n",
        "        cursor.execute(\"\"\"UPDATE FlightLeg SET flightType = CASE WHEN\n",
        "        sourceCountryCode = destinationCountryCode THEN 'D' ELSE 'I' END;\"\"\")\n",
        "        connect.commit()"
      ],
      "metadata": {
        "id": "fTZtX3JCGDn2"
      },
      "execution_count": 94,
      "outputs": []
    },
    {
      "cell_type": "markdown",
      "source": [
        "Next step, in func \"get_flights_info\" we collecting info about flights into python dict. Because, it's quite unconvinient to iterate through all the records using SQL querries, I chose to do it in python\n",
        "\n",
        "1.   Firstly, select plane number, time duration and dep/arr time for each flight\n",
        "2.   Iterate through the records and collect data for each plane:\n",
        "      *   every iteration add 1 flight to get final flight count for question #1\n",
        "      *   every iteration add minutes from each plane's flight to get the all minutes in the sky for question #2 \n",
        "      *   every iteration collect the departure and arrival time for question #4"
      ],
      "metadata": {
        "id": "sASrADKZGEGC"
      }
    },
    {
      "cell_type": "code",
      "source": [
        "def get_flights_info() -> tuple:\n",
        "    planes = defaultdict(Counter)\n",
        "    planes_times = defaultdict(list)\n",
        "\n",
        "    cursor.execute(\"SELECT tail, flightDuration, departureTimeUtc, landingTimeUtc FROM FlightLeg;\")\n",
        "    for (tail, flightDuration, departureTimeUtc, landingTimeUtc) in cursor:\n",
        "        planes[tail][\"num_of_flights\"] += 1\n",
        "        planes[tail][\"fly_time\"] += flightDuration\n",
        "        planes_times[tail].append({\"dep\": datetime.strptime(departureTimeUtc, '%Y-%m-%d %H:%M:%S'),\n",
        "                                       \"arr\": datetime.strptime(landingTimeUtc, '%Y-%m-%d %H:%M:%S')})\n",
        "\n",
        "    return planes, planes_times"
      ],
      "metadata": {
        "id": "HjzH5_EJGPMk"
      },
      "execution_count": 95,
      "outputs": []
    },
    {
      "cell_type": "markdown",
      "source": [
        "In next two functions I created lists \"flights\" and \"flight_times\" using \"sorted\" built-in function, and \"num_of_flights\", \"fly_time\" as keys, respectively. Then took planes, having these biggest values and add them to the answer(considered the case, where are several planes with most flights/minutes)"
      ],
      "metadata": {
        "id": "NxgEZJ1WGPfi"
      }
    },
    {
      "cell_type": "code",
      "source": [
        "def first_question(planes: dict) -> None:\n",
        "    flights = sorted(planes.items(), key=lambda x: x[1][\"num_of_flights\"], reverse=True)\n",
        "    most_flights = []\n",
        "    for flight in flights:\n",
        "        if flight[1][\"num_of_flights\"] != flights[0][1][\"num_of_flights\"]:\n",
        "            break\n",
        "        most_flights.append(flight[0])\n",
        "    \n",
        "    answers[\"1. Which aircraft made the most flights?\"] = ', '.join(most_flights)\n",
        "    \n",
        "def second_question(planes: dict) -> None:\n",
        "    flight_times = sorted(planes.items(), key=lambda x: x[1][\"fly_time\"], reverse=True)\n",
        "    longest_flights = []\n",
        "    for flight in flight_times:\n",
        "        if flight[1][\"fly_time\"] != flight_times[0][1][\"fly_time\"]:\n",
        "            break\n",
        "        longest_flights.append(flight[0])\n",
        "\n",
        "    answers[\"2. Which aircraft flew the most minutes?\"] = ', '.join(longest_flights)"
      ],
      "metadata": {
        "id": "yKqKICDQGSb8"
      },
      "execution_count": 96,
      "outputs": []
    },
    {
      "cell_type": "markdown",
      "source": [
        "For 3th question use SQL querries 4 times to get the shortest/longest domestic and international flights. Add info about these flights to the dict with answers"
      ],
      "metadata": {
        "id": "jnndM-GdGS5x"
      }
    },
    {
      "cell_type": "code",
      "source": [
        "def third_question():\n",
        "    cursor.execute(\"\"\"SELECT tail, departureTimeUtc, flightDuration FROM FlightLeg WHERE flightType = 'D' AND\n",
        "                        flightDuration = (SELECT MAX(flightDuration) FROM FlightLeg WHERE flightType = 'D');\"\"\")\n",
        "    longest_d = [f\"{tail}, {departureTimeUtc}, {flightDuration}\"\n",
        "                for (tail, departureTimeUtc, flightDuration) in cursor]\n",
        "    cursor.execute(\"\"\"SELECT tail, departureTimeUtc, flightDuration FROM FlightLeg WHERE flightType = 'D' AND\n",
        "                        flightDuration = (SELECT MIN(flightDuration) FROM FlightLeg WHERE flightType = 'D');\"\"\")\n",
        "    shortest_d = [f\"{tail}, {departureTimeUtc}, {flightDuration}\"\n",
        "                  for (tail, departureTimeUtc, flightDuration) in cursor]\n",
        "    cursor.execute(\"\"\"SELECT tail, departureTimeUtc, flightDuration FROM FlightLeg WHERE flightType = 'I' AND\n",
        "                        flightDuration = (SELECT MAX(flightDuration) FROM FlightLeg WHERE flightType = 'I');\"\"\")\n",
        "    longest_i = [f\"{tail}, {departureTimeUtc}, {flightDuration}\"\n",
        "                  for (tail, departureTimeUtc, flightDuration) in cursor]\n",
        "    cursor.execute(\"\"\"SELECT tail, departureTimeUtc, flightDuration FROM FlightLeg WHERE flightType = 'I' AND\n",
        "                        flightDuration = (SELECT MIN(flightDuration) FROM FlightLeg WHERE flightType = 'I');\"\"\")\n",
        "    shortest_i = [f\"{tail}, {departureTimeUtc}, {flightDuration}\"\n",
        "                  for (tail, departureTimeUtc, flightDuration) in cursor]\n",
        "    answers[\"3. Longest domestic\"] = ' | '.join(longest_d)\n",
        "    answers[\"3. Shortest_domestic\"] = ' | '.join(shortest_d)\n",
        "    answers[\"3. Lontest_international\"] = ' | '.join(longest_i)\n",
        "    answers[\"3. Shortest_international\"] = ' | '.join(shortest_i)\n",
        "    return "
      ],
      "metadata": {
        "id": "Bj_IawYRJ7nE"
      },
      "execution_count": 97,
      "outputs": []
    },
    {
      "cell_type": "markdown",
      "source": [
        "For 4th question, finding overlaping in time periods is the same as finding the overlaping sets. I implemented next logic:\n",
        "\n",
        "For each aircraft:\n",
        "\n",
        "1.   Sort list with departure and arrival times(key=Arriving time).  \n",
        "2.   Iterate through this list, refreshing, if there are no intersections, departure time to compare to the current arrival time. Intersection now is possible if and only if the considering plane's departure time <= minimum from the previous arrival times\n",
        "3. If there is overlapping, select info about these flights from table and add them to the result. In this case, saving arrival value = min(current arrival, previous arrival)\n",
        "\n"
      ],
      "metadata": {
        "id": "2UfFRRseVEkX"
      }
    },
    {
      "cell_type": "code",
      "source": [
        "def fourth_question(planes_times) -> None:\n",
        "    mistakes = defaultdict(list)\n",
        "    for plane in planes_times:\n",
        "        if len(planes_times) == 1:\n",
        "            continue\n",
        "        sorted_flights = sorted(planes_times[plane], key=lambda x: x[\"arr\"])\n",
        "        prev_arr = sorted_flights[0][\"arr\"]\n",
        "        prev_dep = sorted_flights[0][\"dep\"]\n",
        "        for flight in sorted_flights[1:]:\n",
        "            if flight[\"dep\"] >= prev_arr:\n",
        "                prev_arr = flight[\"arr\"]\n",
        "                prev_dep = flight[\"dep\"]\n",
        "                continue\n",
        "            mistakes[plane].append(f'{flight[\"dep\"]} - {flight[\"arr\"]} and {prev_dep} - {prev_arr}')\n",
        "            prev_arr = min(flight[\"arr\"], prev_arr)\n",
        "    answers[\"4. Error records\"] = ''.join([f\"{plane}: {mistakes[plane]}\" for plane in mistakes])"
      ],
      "metadata": {
        "id": "9XM01S7EVFAx"
      },
      "execution_count": 98,
      "outputs": []
    },
    {
      "cell_type": "markdown",
      "source": [
        "Call each of the functions and print the answer"
      ],
      "metadata": {
        "id": "WVSnXQZUGhAB"
      }
    },
    {
      "cell_type": "code",
      "source": [
        "create_table()\n",
        "csv_data_into_db(csv_path=csv_path)\n",
        "add_columns()\n",
        "flights_info = get_flights_info()[0]\n",
        "flights_times_info = get_flights_info()[1]\n",
        "first_question(flights_info)\n",
        "second_question(flights_info)\n",
        "third_question()\n",
        "fourth_question(flights_times_info)\n",
        "for q, a in sorted(answers.items()):\n",
        "        print(f'{q}: {a}')"
      ],
      "metadata": {
        "colab": {
          "base_uri": "https://localhost:8080/"
        },
        "id": "WZPtF_Y3Ggi5",
        "outputId": "5470b607-b352-4fe7-b820-108c4ad940f4"
      },
      "execution_count": 99,
      "outputs": [
        {
          "output_type": "stream",
          "name": "stdout",
          "text": [
            "1. Which aircraft made the most flights?: A6-ENE, A6-ENS\n",
            "2. Which aircraft flew the most minutes?: A6-EVF\n",
            "3. Longest domestic: A6-EES, 2021-11-30 09:20:00, 126\n",
            "3. Lontest_international: A6-EWH, 2021-11-29 06:32:00, 966\n",
            "3. Shortest_domestic: A6-ECH, 2021-11-30 09:32:00, 61\n",
            "3. Shortest_international: A6-ENE, 2021-11-29 13:35:00, 42 | A6-EPF, 2021-11-27 13:44:28, 42 | A6-EGQ, 2021-11-28 13:35:28, 42\n",
            "4. Error records: A6-ECS: ['2021-11-30 15:45:00 - 2021-11-30 19:59:00 and 2021-11-30 05:14:44 - 2021-11-30 15:50:00']\n"
          ]
        }
      ]
    },
    {
      "cell_type": "markdown",
      "source": [
        ""
      ],
      "metadata": {
        "id": "lCXYmJ3UKARI"
      }
    },
    {
      "cell_type": "markdown",
      "source": [
        "\n",
        "\n"
      ],
      "metadata": {
        "id": "Naeilc39L3wJ"
      }
    }
  ]
}